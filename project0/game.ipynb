{
 "cells": [
  {
   "cell_type": "code",
   "execution_count": 3,
   "metadata": {},
   "outputs": [],
   "source": [
    "import random"
   ]
  },
  {
   "cell_type": "markdown",
   "metadata": {},
   "source": [
    "### В данном модуле содержится функция game_core_v3, которая выводит количество итераций, затраченных на поиск случайно загаданного числа"
   ]
  },
  {
   "cell_type": "markdown",
   "metadata": {},
   "source": [
    "# Игра угадай число"
   ]
  },
  {
   "cell_type": "code",
   "execution_count": 9,
   "metadata": {},
   "outputs": [],
   "source": [
    "def game_core_v3(max_number: int = 100) -> int:\n",
    "    \"\"\"\n",
    "    Args:\n",
    "        number (int, optional): Загаданное число. Defaults to 1.\n",
    "        max_number (int, optional): Максимальное число, которое можно загадать\n",
    "    Returns:\n",
    "        int: Число итераций, потраченных на отгадывание (поиск числа)\n",
    "    \"\"\"\n",
    "    random.seed(1) #устанавлиаем seed\n",
    "    number = random.randint(1, max_number + 1) #случайно выбираем число\n",
    "    print(f'Загаданное число {number}') #вывдим загаданное число\n",
    "    \n",
    "    #далее реализуем алгоритм бинарного поиска \n",
    "    left, right = 0, max_number #создаём левую и правую границу поиска числа\n",
    "    i = 1 #счётчик колкичества попыток угадывания\n",
    "    while left < right: #пока число слева меньше числа справа\n",
    "        mid = left + (right - left)//2 # находим середину ряда чисел из тех, что можно загадать\n",
    "        if mid == number: #если это то число, которое искали\n",
    "            print(f'Число затраченных итераций {i}') #то выводим результат и завершаем цикл\n",
    "            break\n",
    "        if mid < number: # если текущее число меньше истинного\n",
    "            left = mid #то \"левое\" число становится числом середины ряда чисел\n",
    "        elif mid > number: # если текущее число больше истинного\n",
    "            right = mid # то правое число становится числом середины ряда чисел\n",
    "        i += 1 #обновляем счётчик попыток"
   ]
  },
  {
   "cell_type": "code",
   "execution_count": 10,
   "metadata": {},
   "outputs": [
    {
     "name": "stdout",
     "output_type": "stream",
     "text": [
      "Загаданное число 18\n",
      "Число затраченных итераций 4\n"
     ]
    }
   ],
   "source": [
    "if __name__ == '__main__':\n",
    "    game_core_v3() # запускаем функцияю "
   ]
  }
 ],
 "metadata": {
  "kernelspec": {
   "display_name": "Python 3",
   "language": "python",
   "name": "python3"
  },
  "language_info": {
   "codemirror_mode": {
    "name": "ipython",
    "version": 3
   },
   "file_extension": ".py",
   "mimetype": "text/x-python",
   "name": "python",
   "nbconvert_exporter": "python",
   "pygments_lexer": "ipython3",
   "version": "3.10.0"
  },
  "orig_nbformat": 4
 },
 "nbformat": 4,
 "nbformat_minor": 2
}
